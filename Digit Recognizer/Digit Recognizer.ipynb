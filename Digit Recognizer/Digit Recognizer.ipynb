{
 "cells": [
  {
   "cell_type": "code",
   "execution_count": 1,
   "metadata": {},
   "outputs": [
    {
     "name": "stderr",
     "output_type": "stream",
     "text": [
      "Using TensorFlow backend.\n"
     ]
    }
   ],
   "source": [
    "#Imports\n",
    "import pandas as pd\n",
    "import numpy as np\n",
    "import matplotlib.pyplot as plt\n",
    "import cv2\n",
    "\n",
    "from sklearn.model_selection import train_test_split\n",
    "from sklearn.preprocessing import StandardScaler\n",
    "from keras.datasets import mnist\n",
    "from keras.models import Sequential\n",
    "from keras.models import Sequential\n",
    "from keras.layers import Dense, Dropout, Activation, Flatten\n",
    "from keras.layers import Conv2D, MaxPooling2D\n",
    "\n",
    "%config IPCompleter.greedy=True\n",
    "%matplotlib inline\n",
    "\n",
    "Total_classes = 10"
   ]
  },
  {
   "cell_type": "code",
   "execution_count": 2,
   "metadata": {},
   "outputs": [],
   "source": [
    "# Limit GPU memory consumption to 30%\n",
    "import tensorflow as tf\n",
    "from   keras.backend.tensorflow_backend import set_session\n",
    "\n",
    "config = tf.ConfigProto(device_count={'CPU': 2},\n",
    "                        intra_op_parallelism_threads=2)\n",
    "set_session(tf.Session(config=config))"
   ]
  },
  {
   "cell_type": "markdown",
   "metadata": {},
   "source": [
    "## Visualização dos dados"
   ]
  },
  {
   "cell_type": "code",
   "execution_count": 3,
   "metadata": {},
   "outputs": [],
   "source": [
    "(x_train, y_train), (x_test, y_test) = mnist.load_data()"
   ]
  },
  {
   "cell_type": "code",
   "execution_count": 4,
   "metadata": {},
   "outputs": [
    {
     "name": "stdout",
     "output_type": "stream",
     "text": [
      "Imagens de treino (X) 28 x 28 (60000, 28, 28)\n",
      "Classes de treino (y) (60000,)\n",
      "Imagens de teste (X) 28 x 28 (10000, 28, 28)\n",
      "Classes de treino (y) (10000,)\n"
     ]
    }
   ],
   "source": [
    "print(\"Imagens de treino (X) 28 x 28\", x_train.shape)\n",
    "print(\"Classes de treino (y)\", y_train.shape)\n",
    "\n",
    "print(\"Imagens de teste (X) 28 x 28\", x_test.shape)\n",
    "print(\"Classes de treino (y)\", y_test.shape)"
   ]
  },
  {
   "cell_type": "code",
   "execution_count": 5,
   "metadata": {},
   "outputs": [
    {
     "name": "stdout",
     "output_type": "stream",
     "text": [
      "Imagens de treino (x) 28 x 28: (60000, 28, 28, 1)\n",
      "Quantidade de imagens de treino:  60000\n",
      "Quantidade de imagens de teste:  10000\n"
     ]
    }
   ],
   "source": [
    "x_train = x_train.reshape(x_train.shape[0], 28, 28, 1)\n",
    "x_test = x_test.reshape(x_test.shape[0], 28, 28, 1)\n",
    "print(\"Imagens de treino (x) 28 x 28:\", x_train.shape)\n",
    "print(\"Quantidade de imagens de treino: \", x_train.shape[0])\n",
    "print(\"Quantidade de imagens de teste: \", x_test.shape[0])\n",
    "\n",
    "shape_entrada = (28, 28, 1)"
   ]
  },
  {
   "cell_type": "code",
   "execution_count": 6,
   "metadata": {},
   "outputs": [
    {
     "name": "stdout",
     "output_type": "stream",
     "text": [
      "Imagens de treino (x) 28 x 28: (60000, 28, 28, 1)\n",
      "Quantidade de imagens de treino:  60000\n",
      "Quantidade de imagens de teste:  10000\n"
     ]
    }
   ],
   "source": [
    "# Convetendo os valores para float para lidarmos com os valores normalizados\n",
    "x_train = x_train.astype('float32')\n",
    "x_test = x_test.astype('float32')\n",
    "\n",
    "# Normalizando os dados pelo valor máximo de pixel\n",
    "x_train /= 255\n",
    "x_test /= 255\n",
    "\n",
    "print('Imagens de treino (x) 28 x 28:', x_train.shape)\n",
    "print('Quantidade de imagens de treino: ', x_train.shape[0])\n",
    "print('Quantidade de imagens de teste: ', x_test.shape[0])"
   ]
  },
  {
   "cell_type": "code",
   "execution_count": 110,
   "metadata": {},
   "outputs": [
    {
     "name": "stdout",
     "output_type": "stream",
     "text": [
      "_________________________________________________________________\n",
      "Layer (type)                 Output Shape              Param #   \n",
      "=================================================================\n",
      "conv2d_2 (Conv2D)            (None, 26, 26, 28)        280       \n",
      "_________________________________________________________________\n",
      "max_pooling2d_2 (MaxPooling2 (None, 13, 13, 28)        0         \n",
      "_________________________________________________________________\n",
      "flatten_2 (Flatten)          (None, 4732)              0         \n",
      "_________________________________________________________________\n",
      "dense_3 (Dense)              (None, 128)               605824    \n",
      "_________________________________________________________________\n",
      "dropout_2 (Dropout)          (None, 128)               0         \n",
      "_________________________________________________________________\n",
      "dense_4 (Dense)              (None, 10)                1290      \n",
      "=================================================================\n",
      "Total params: 607,394\n",
      "Trainable params: 607,394\n",
      "Non-trainable params: 0\n",
      "_________________________________________________________________\n"
     ]
    }
   ],
   "source": [
    "# Construindo um modelo sequencial\n",
    "model = Sequential()\n",
    "model.add(Conv2D(28, kernel_size=(3), input_shape=shape_entrada))\n",
    "model.add(MaxPooling2D(pool_size=(2,2)))\n",
    "model.add(Flatten())\n",
    "model.add(Dense(128, activation=\"relu\"))\n",
    "model.add(Dropout(0.2))\n",
    "\n",
    "# A camada final, determinará qual classe escolher. Por tal razão ela possui a ativação Softmax, que retorna\n",
    "# a probabilidade por classe\n",
    "model.add(Dense(10,activation=\"softmax\"))\n",
    "model.summary()"
   ]
  },
  {
   "cell_type": "code",
   "execution_count": 113,
   "metadata": {},
   "outputs": [
    {
     "name": "stdout",
     "output_type": "stream",
     "text": [
      "Epoch 1/10\n",
      "60000/60000 [==============================] - 43s 719us/step - loss: 0.1723 - acc: 0.94881s\n",
      "Epoch 2/10\n",
      "60000/60000 [==============================] - 42s 695us/step - loss: 0.0811 - acc: 0.9761\n",
      "Epoch 3/10\n",
      "60000/60000 [==============================] - 42s 698us/step - loss: 0.0581 - acc: 0.9824\n",
      "Epoch 4/10\n",
      "60000/60000 [==============================] - 42s 703us/step - loss: 0.0455 - acc: 0.9865\n",
      "Epoch 5/10\n",
      "60000/60000 [==============================] - 44s 730us/step - loss: 0.0361 - acc: 0.9889\n",
      "Epoch 6/10\n",
      "60000/60000 [==============================] - 43s 710us/step - loss: 0.0304 - acc: 0.99081s - loss: 0.\n",
      "Epoch 7/10\n",
      "60000/60000 [==============================] - 44s 727us/step - loss: 0.0258 - acc: 0.9917\n",
      "Epoch 8/10\n",
      "60000/60000 [==============================] - 42s 703us/step - loss: 0.0219 - acc: 0.9932\n",
      "Epoch 9/10\n",
      "60000/60000 [==============================] - 42s 699us/step - loss: 0.0186 - acc: 0.9938\n",
      "Epoch 10/10\n",
      "60000/60000 [==============================] - 42s 699us/step - loss: 0.0155 - acc: 0.9954\n"
     ]
    },
    {
     "data": {
      "text/plain": [
       "<keras.callbacks.History at 0x138d4c23470>"
      ]
     },
     "execution_count": 113,
     "metadata": {},
     "output_type": "execute_result"
    }
   ],
   "source": [
    "model.compile(optimizer='adadelta', loss='sparse_categorical_crossentropy', metrics=['accuracy'])\n",
    "model.fit(x=x_train,y=y_train, epochs=10)"
   ]
  },
  {
   "cell_type": "code",
   "execution_count": 116,
   "metadata": {},
   "outputs": [],
   "source": [
    "# Salvando o modelo no formato HDf5\n",
    "model.save(\"./model.h5\")\n",
    "# Arquitetura das camadas em JSSON e pesos treinados em HDF5\n",
    "model.save_weights(\"./weights.h5\")"
   ]
  },
  {
   "cell_type": "code",
   "execution_count": 11,
   "metadata": {},
   "outputs": [
    {
     "name": "stdout",
     "output_type": "stream",
     "text": [
      "10000/10000 [==============================] - 3s 309us/step\n",
      "Perda (teste): 0.05273456000061123\n",
      "Acurácia (teste): 0.9829\n",
      "['loss', 'acc']\n"
     ]
    }
   ],
   "source": [
    "score = model.evaluate(x_test, y_test)\n",
    "\n",
    "print('Perda (teste):', score[0])\n",
    "print('Acurácia (teste):', score[1])\n",
    "\n",
    "print(model.metrics_names)"
   ]
  },
  {
   "cell_type": "code",
   "execution_count": 105,
   "metadata": {},
   "outputs": [
    {
     "data": {
      "text/plain": [
       "<matplotlib.image.AxesImage at 0x138d6a98080>"
      ]
     },
     "execution_count": 105,
     "metadata": {},
     "output_type": "execute_result"
    },
    {
     "data": {
      "image/png": "[encoded data removed]",
      "text/plain": [
       "<Figure size 432x288 with 1 Axes>"
      ]
     },
     "metadata": {
      "needs_background": "light"
     },
     "output_type": "display_data"
    }
   ],
   "source": [
    "image_index = 0\n",
    "pred = model.predict(teste[image_index].reshape(1, 28, 28, 1))\n",
    "plt.title(\"Predição:\" + str(pred.argmax()))\n",
    "plt.imshow(teste[image_index].reshape(28, 28),cmap='gray')"
   ]
  },
  {
   "cell_type": "code",
   "execution_count": 45,
   "metadata": {},
   "outputs": [
    {
     "name": "stdout",
     "output_type": "stream",
     "text": [
      "<class 'pandas.core.frame.DataFrame'>\n"
     ]
    },
    {
     "name": "stderr",
     "output_type": "stream",
     "text": [
      "C:\\Users\\jonny\\Anaconda3\\lib\\site-packages\\ipykernel_launcher.py:3: FutureWarning: Method .as_matrix will be removed in a future version. Use .values instead.\n",
      "  This is separate from the ipykernel package so we can avoid doing imports until\n"
     ]
    }
   ],
   "source": [
    "csv_test = pd.read_csv('./Data/test.csv')"
   ]
  },
  {
   "cell_type": "code",
   "execution_count": 67,
   "metadata": {},
   "outputs": [
    {
     "name": "stderr",
     "output_type": "stream",
     "text": [
      "C:\\Users\\jonny\\Anaconda3\\lib\\site-packages\\ipykernel_launcher.py:1: FutureWarning: Method .as_matrix will be removed in a future version. Use .values instead.\n",
      "  \"\"\"Entry point for launching an IPython kernel.\n"
     ]
    }
   ],
   "source": [
    "teste = csv_test.as_matrix()\n",
    "teste = teste.astype('float32')\n",
    "teste /= 255"
   ]
  },
  {
   "cell_type": "code",
   "execution_count": 96,
   "metadata": {},
   "outputs": [],
   "source": [
    "teste = teste.reshape(teste.shape[0], 28, 28, 1)"
   ]
  },
  {
   "cell_type": "code",
   "execution_count": 118,
   "metadata": {},
   "outputs": [
    {
     "data": {
      "text/plain": [
       "13"
      ]
     },
     "execution_count": 118,
     "metadata": {},
     "output_type": "execute_result"
    }
   ],
   "source": [
    "f = open(\"predicoes.csv\", \"a\")\n",
    "f.write('ImageId,Label')"
   ]
  },
  {
   "cell_type": "code",
   "execution_count": 119,
   "metadata": {},
   "outputs": [],
   "source": [
    "for i in range(0, len(teste)):\n",
    "    f.write('\\n%d,%d'% ((i+1), model.predict(teste[i].reshape(1, 28, 28, 1)).argmax()))\n",
    "f.close()"
   ]
  },
  {
   "cell_type": "code",
   "execution_count": null,
   "metadata": {},
   "outputs": [],
   "source": []
  }
 ],
 "metadata": {
  "kernelspec": {
   "display_name": "Python 3",
   "language": "python",
   "name": "python3"
  },
  "language_info": {
   "codemirror_mode": {
    "name": "ipython",
    "version": 3
   },
   "file_extension": ".py",
   "mimetype": "text/x-python",
   "name": "python",
   "nbconvert_exporter": "python",
   "pygments_lexer": "ipython3",
   "version": "3.7.3"
  }
 },
 "nbformat": 4,
 "nbformat_minor": 2
}
